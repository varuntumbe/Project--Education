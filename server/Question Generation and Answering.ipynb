{
 "cells": [
  {
   "cell_type": "code",
   "execution_count": 5,
   "metadata": {},
   "outputs": [],
   "source": [
    "from typing import Optional, Union\n",
    "\n",
    "import torch\n",
    "from transformers import(\n",
    "    AutoModelForSeq2SeqLM, \n",
    "    AutoTokenizer,\n",
    "    PreTrainedModel,\n",
    "    PreTrainedTokenizer,\n",
    ")\n",
    "\n",
    "class E2EQGPipeline:\n",
    "    def __init__(\n",
    "        self,\n",
    "        model: PreTrainedModel,\n",
    "        tokenizer: PreTrainedTokenizer,\n",
    "        use_cuda: bool\n",
    "    ) :\n",
    "\n",
    "        self.model = model\n",
    "        self.tokenizer = tokenizer\n",
    "\n",
    "        self.device = \"cuda\" if torch.cuda.is_available() and use_cuda else \"cpu\"\n",
    "        self.model.to(self.device)\n",
    "\n",
    "        assert self.model.__class__.__name__ in [\"T5ForConditionalGeneration\", \"BartForConditionalGeneration\"]\n",
    "        \n",
    "        if \"T5ForConditionalGeneration\" in self.model.__class__.__name__:\n",
    "            self.model_type = \"t5\"\n",
    "        else:\n",
    "            self.model_type = \"bart\"\n",
    "        \n",
    "        self.default_generate_kwargs = {\n",
    "            \"max_length\": 256,\n",
    "            \"num_beams\": 4,\n",
    "            \"length_penalty\": 1.5,\n",
    "            \"no_repeat_ngram_size\": 3,\n",
    "            \"early_stopping\": True,\n",
    "        }\n",
    "    \n",
    "    def __call__(self, context: str, **generate_kwargs):\n",
    "        inputs = self._prepare_inputs_for_e2e_qg(context)\n",
    "        \n",
    "        if not generate_kwargs:\n",
    "            generate_kwargs = self.default_generate_kwargs\n",
    "        \n",
    "        input_length = inputs[\"input_ids\"].shape[-1]\n",
    "        \n",
    "        outs = self.model.generate(\n",
    "            input_ids=inputs['input_ids'].to(self.device), \n",
    "            attention_mask=inputs['attention_mask'].to(self.device),\n",
    "            **generate_kwargs\n",
    "        )\n",
    "\n",
    "        prediction = self.tokenizer.decode(outs[0], skip_special_tokens=True)\n",
    "        questions = prediction.split(\"<sep>\")\n",
    "        questions = [question.strip() for question in questions[:-1]]\n",
    "        return questions\n",
    "    \n",
    "    def _prepare_inputs_for_e2e_qg(self, context):\n",
    "        source_text = f\"generate questions: {context}\"\n",
    "        if self.model_type == \"t5\":\n",
    "            source_text = source_text + \" </s>\"\n",
    "        \n",
    "        inputs = self._tokenize([source_text], padding=False)\n",
    "        return inputs\n",
    "    \n",
    "    def _tokenize(\n",
    "        self,\n",
    "        inputs,\n",
    "        padding=True,\n",
    "        truncation=True,\n",
    "        add_special_tokens=True,\n",
    "        max_length=512\n",
    "    ):\n",
    "        inputs = self.tokenizer.batch_encode_plus(\n",
    "            inputs, \n",
    "            max_length=max_length,\n",
    "            add_special_tokens=add_special_tokens,\n",
    "            truncation=truncation,\n",
    "            padding=\"max_length\" if padding else False,\n",
    "            pad_to_max_length=padding,\n",
    "            return_tensors=\"pt\"\n",
    "        )\n",
    "        return inputs\n",
    "    \n",
    "SUPPORTED_TASKS = {\n",
    "    \"e2e-qg\": {\n",
    "        \"impl\": E2EQGPipeline,\n",
    "        \"default\": {\n",
    "            \"model\": \"valhalla/t5-base-e2e-qg\",\n",
    "        }\n",
    "    }\n",
    "}\n",
    "\n",
    "def pipeline(\n",
    "    task: str,\n",
    "    model: Optional = None,\n",
    "    tokenizer: Optional[Union[str, PreTrainedTokenizer]] = None,\n",
    "    qg_format: Optional[str] = \"highlight\",\n",
    "    ans_model: Optional = None,\n",
    "    ans_tokenizer: Optional[Union[str, PreTrainedTokenizer]] = None,\n",
    "    use_cuda: Optional[bool] = True,\n",
    "    **kwargs,\n",
    "):\n",
    "    # Retrieve the task\n",
    "    if task not in SUPPORTED_TASKS:\n",
    "        raise KeyError(\"Unknown task {}, available tasks are {}\".format(task, list(SUPPORTED_TASKS.keys())))\n",
    "\n",
    "    targeted_task = SUPPORTED_TASKS[task]\n",
    "    task_class = targeted_task[\"impl\"]\n",
    "\n",
    "    # Use default model/config/tokenizer for the task if no model is provided\n",
    "    if model is None:\n",
    "        model = targeted_task[\"default\"][\"model\"]\n",
    "    \n",
    "    # Try to infer tokenizer from model or config name (if provided as str)\n",
    "    if tokenizer is None:\n",
    "        if isinstance(model, str):\n",
    "            tokenizer = model\n",
    "        else:\n",
    "            # Impossible to guest what is the right tokenizer here\n",
    "            raise Exception(\n",
    "                \"Impossible to guess which tokenizer to use. \"\n",
    "                \"Please provided a PretrainedTokenizer class or a path/identifier to a pretrained tokenizer.\"\n",
    "            )\n",
    "    \n",
    "    # Instantiate tokenizer if needed\n",
    "    if isinstance(tokenizer, (str, tuple)):\n",
    "        if isinstance(tokenizer, tuple):\n",
    "            # For tuple we have (tokenizer name, {kwargs})\n",
    "            tokenizer = AutoTokenizer.from_pretrained(tokenizer[0], **tokenizer[1])\n",
    "        else:\n",
    "            tokenizer = AutoTokenizer.from_pretrained(tokenizer)\n",
    "    \n",
    "    # Instantiate model if needed\n",
    "    if isinstance(model, str):\n",
    "        model = AutoModelForSeq2SeqLM.from_pretrained(model)\n",
    "    \n",
    "    if task == \"e2e-qg\":\n",
    "        return task_class(model=model, tokenizer=tokenizer, use_cuda=use_cuda)\n",
    "    \n",
    "    else:\n",
    "        return task_class(model=model, tokenizer=tokenizer, ans_model=model, ans_tokenizer=tokenizer, qg_format=qg_format, use_cuda=use_cuda)"
   ]
  },
  {
   "cell_type": "code",
   "execution_count": 6,
   "metadata": {},
   "outputs": [],
   "source": [
    "#Create an object of pipeline, e2e-qg is End2End Question Generation\n",
    "nlp = pipeline(\"e2e-qg\")"
   ]
  },
  {
   "cell_type": "code",
   "execution_count": 7,
   "metadata": {},
   "outputs": [],
   "source": [
    "from transformers import AutoTokenizer, AutoModelForQuestionAnswering, pipeline\n",
    "#Initialize answer_model_name with the name of the Question Answering Model\n",
    "answer_model_name = \"bert-large-uncased-whole-word-masking-finetuned-squad\"\n",
    "answer_tokenizer = AutoTokenizer.from_pretrained(answer_model_name)\n",
    "answer_model = AutoModelForQuestionAnswering.from_pretrained(answer_model_name)\n",
    "answer_pipeline = pipeline('question-answering', model=answer_model_name, tokenizer=answer_model_name)"
   ]
  },
  {
   "cell_type": "code",
   "execution_count": 8,
   "metadata": {
    "scrolled": true
   },
   "outputs": [
    {
     "name": "stdout",
     "output_type": "stream",
     "text": [
      " * Serving Flask app '__main__' (lazy loading)\n",
      " * Environment: production\n",
      "\u001b[31m   WARNING: This is a development server. Do not use it in a production deployment.\u001b[0m\n",
      "\u001b[2m   Use a production WSGI server instead.\u001b[0m\n",
      " * Debug mode: off\n"
     ]
    },
    {
     "name": "stderr",
     "output_type": "stream",
     "text": [
      " * Running on http://127.0.0.1:4000 (Press CTRL+C to quit)\n"
     ]
    },
    {
     "name": "stdout",
     "output_type": "stream",
     "text": [
      "[{'question': 'What is the most-searched keyword on Shaadi.com?', 'answer': 'IAS or IPS officer'}]\n",
      "[{'question': 'What is the most-searched keyword on Shaadi.com?', 'answer': 'IAS or IPS officer'}, {'question': 'Who is the Union Minister of State for Electronics and IT?', 'answer': 'Rajeev Chandrasekhar'}]\n"
     ]
    },
    {
     "name": "stderr",
     "output_type": "stream",
     "text": [
      "127.0.0.1 - - [09/Jul/2022 07:30:55] \"POST /sendQuestionAnswers HTTP/1.1\" 200 -\n"
     ]
    },
    {
     "name": "stdout",
     "output_type": "stream",
     "text": [
      "[{'question': 'What is the most-searched keyword on Shaadi.com?', 'answer': 'IAS or IPS officer'}, {'question': 'Who is the Union Minister of State for Electronics and IT?', 'answer': 'Rajeev Chandrasekhar'}, {'question': 'When was Rajeev Chandrasekhar speaking at Digital India Week?', 'answer': 'when he made the observation'}]\n",
      "[{'question': 'What is the most-searched keyword on Shaadi.com?', 'answer': 'IAS or IPS officer'}, {'question': 'Who is the Union Minister of State for Electronics and IT?', 'answer': 'Rajeev Chandrasekhar'}, {'question': 'When was Rajeev Chandrasekhar speaking at Digital India Week?', 'answer': 'when he made the observation'}]\n",
      "[{'question': 'What is the most-searched keyword on Shaadi.com?', 'answer': 'IAS or IPS officer'}]\n",
      "[{'question': 'What is the most-searched keyword on Shaadi.com?', 'answer': 'IAS or IPS officer'}, {'question': 'Who is the Union Minister of State for Electronics and IT?', 'answer': 'Rajeev Chandrasekhar'}]\n"
     ]
    },
    {
     "name": "stderr",
     "output_type": "stream",
     "text": [
      "127.0.0.1 - - [09/Jul/2022 07:31:14] \"POST /sendQuestionAnswers HTTP/1.1\" 200 -\n"
     ]
    },
    {
     "name": "stdout",
     "output_type": "stream",
     "text": [
      "[{'question': 'What is the most-searched keyword on Shaadi.com?', 'answer': 'IAS or IPS officer'}, {'question': 'Who is the Union Minister of State for Electronics and IT?', 'answer': 'Rajeev Chandrasekhar'}, {'question': 'When was Rajeev Chandrasekhar speaking at Digital India Week?', 'answer': 'when he made the observation'}]\n",
      "[{'question': 'What is the most-searched keyword on Shaadi.com?', 'answer': 'IAS or IPS officer'}, {'question': 'Who is the Union Minister of State for Electronics and IT?', 'answer': 'Rajeev Chandrasekhar'}, {'question': 'When was Rajeev Chandrasekhar speaking at Digital India Week?', 'answer': 'when he made the observation'}]\n",
      "[{'question': \"What was Charles Babbage's profession?\", 'answer': 'mathematician,   philosopher, inventor and mechanical engineer'}]\n",
      "[{'question': \"What was Charles Babbage's profession?\", 'answer': 'mathematician,   philosopher, inventor and mechanical engineer'}, {'question': 'What was the name of the first mechanical computer?', 'answer': 'the Difference Engine'}]\n",
      "[{'question': \"What was Charles Babbage's profession?\", 'answer': 'mathematician,   philosopher, inventor and mechanical engineer'}, {'question': 'What was the name of the first mechanical computer?', 'answer': 'the Difference Engine'}, {'question': 'Where is the Analytical Engine located?', 'answer': 'Science Museum in London'}]\n"
     ]
    },
    {
     "name": "stderr",
     "output_type": "stream",
     "text": [
      "127.0.0.1 - - [09/Jul/2022 08:17:15] \"POST /sendQuestionAnswers HTTP/1.1\" 200 -\n"
     ]
    },
    {
     "name": "stdout",
     "output_type": "stream",
     "text": [
      "[{'question': \"What was Charles Babbage's profession?\", 'answer': 'mathematician,   philosopher, inventor and mechanical engineer'}, {'question': 'What was the name of the first mechanical computer?', 'answer': 'the Difference Engine'}, {'question': 'Where is the Analytical Engine located?', 'answer': 'Science Museum in London'}, {'question': 'When was a difference engine constructed?', 'answer': '1991'}]\n",
      "[{'question': \"What was Charles Babbage's profession?\", 'answer': 'mathematician,   philosopher, inventor and mechanical engineer'}, {'question': 'What was the name of the first mechanical computer?', 'answer': 'the Difference Engine'}, {'question': 'Where is the Analytical Engine located?', 'answer': 'Science Museum in London'}, {'question': 'When was a difference engine constructed?', 'answer': '1991'}]\n",
      "[{'question': \"What was Charles Babbage's profession?\", 'answer': 'mathematician,   philosopher, inventor and mechanical engineer'}]\n",
      "[{'question': \"What was Charles Babbage's profession?\", 'answer': 'mathematician,   philosopher, inventor and mechanical engineer'}, {'question': 'What was the name of the first mechanical computer?', 'answer': 'the Difference Engine'}]\n",
      "[{'question': \"What was Charles Babbage's profession?\", 'answer': 'mathematician,   philosopher, inventor and mechanical engineer'}, {'question': 'What was the name of the first mechanical computer?', 'answer': 'the Difference Engine'}, {'question': 'Where is the Analytical Engine located?', 'answer': 'Science Museum in London'}]\n"
     ]
    },
    {
     "name": "stderr",
     "output_type": "stream",
     "text": [
      "127.0.0.1 - - [09/Jul/2022 08:25:00] \"POST /sendQuestionAnswers HTTP/1.1\" 200 -\n"
     ]
    },
    {
     "name": "stdout",
     "output_type": "stream",
     "text": [
      "[{'question': \"What was Charles Babbage's profession?\", 'answer': 'mathematician,   philosopher, inventor and mechanical engineer'}, {'question': 'What was the name of the first mechanical computer?', 'answer': 'the Difference Engine'}, {'question': 'Where is the Analytical Engine located?', 'answer': 'Science Museum in London'}, {'question': 'When was a difference engine constructed?', 'answer': '1991'}]\n",
      "[{'question': \"What was Charles Babbage's profession?\", 'answer': 'mathematician,   philosopher, inventor and mechanical engineer'}, {'question': 'What was the name of the first mechanical computer?', 'answer': 'the Difference Engine'}, {'question': 'Where is the Analytical Engine located?', 'answer': 'Science Museum in London'}, {'question': 'When was a difference engine constructed?', 'answer': '1991'}]\n",
      "[{'question': 'What is a sleep disorder in which people have trouble sleeping?', 'answer': 'Insomnia'}]\n",
      "[{'question': 'What is a sleep disorder in which people have trouble sleeping?', 'answer': 'Insomnia'}, {'question': 'Insomnia is typically followed by what type of sleepiness?', 'answer': 'daytime'}]\n",
      "[{'question': 'What is a sleep disorder in which people have trouble sleeping?', 'answer': 'Insomnia'}, {'question': 'Insomnia is typically followed by what type of sleepiness?', 'answer': 'daytime'}, {'question': 'Long term, lasting more than a month, what can result in insomnia?', 'answer': 'Conditions'}]\n",
      "[{'question': 'What is a sleep disorder in which people have trouble sleeping?', 'answer': 'Insomnia'}, {'question': 'Insomnia is typically followed by what type of sleepiness?', 'answer': 'daytime'}, {'question': 'Long term, lasting more than a month, what can result in insomnia?', 'answer': 'Conditions'}, {'question': 'What is the diagnosis of insomnia based on?', 'answer': 'sleep habits'}]\n",
      "[{'question': 'What is a sleep disorder in which people have trouble sleeping?', 'answer': 'Insomnia'}, {'question': 'Insomnia is typically followed by what type of sleepiness?', 'answer': 'daytime'}, {'question': 'Long term, lasting more than a month, what can result in insomnia?', 'answer': 'Conditions'}, {'question': 'What is the diagnosis of insomnia based on?', 'answer': 'sleep habits'}]\n",
      "[{'question': \"What was Charles Babbage's profession?\", 'answer': 'mathematician,   philosopher, inventor and mechanical engineer'}]\n",
      "[{'question': \"What was Charles Babbage's profession?\", 'answer': 'mathematician,   philosopher, inventor and mechanical engineer'}, {'question': 'What was the name of the first mechanical computer?', 'answer': 'the Difference Engine'}]\n",
      "[{'question': \"What was Charles Babbage's profession?\", 'answer': 'mathematician,   philosopher, inventor and mechanical engineer'}, {'question': 'What was the name of the first mechanical computer?', 'answer': 'the Difference Engine'}, {'question': 'Where is the Analytical Engine located?', 'answer': 'Science Museum in London'}]\n",
      "[{'question': \"What was Charles Babbage's profession?\", 'answer': 'mathematician,   philosopher, inventor and mechanical engineer'}, {'question': 'What was the name of the first mechanical computer?', 'answer': 'the Difference Engine'}, {'question': 'Where is the Analytical Engine located?', 'answer': 'Science Museum in London'}, {'question': 'When was a difference engine constructed?', 'answer': '1991'}]\n",
      "[{'question': 'What is a sleep disorder in which people have trouble sleeping?', 'answer': 'Insomnia'}, {'question': 'Insomnia is typically followed by what type of sleepiness?', 'answer': 'daytime'}, {'question': 'Long term, lasting more than a month, what can result in insomnia?', 'answer': 'Conditions'}, {'question': 'What is the diagnosis of insomnia based on?', 'answer': 'sleep habits'}, {'question': \"What was Charles Babbage's profession?\", 'answer': 'mathematician,   philosopher, inventor and mechanical engineer'}, {'question': 'What was the name of the first mechanical computer?', 'answer': 'the Difference Engine'}, {'question': 'Where is the Analytical Engine located?', 'answer': 'Science Museum in London'}, {'question': 'When was a difference engine constructed?', 'answer': '1991'}]\n",
      "[{'question': 'Who created Python?', 'answer': 'Guido van   Rossum'}]\n",
      "[{'question': 'Who created Python?', 'answer': 'Guido van   Rossum'}, {'question': 'When was Python released?', 'answer': '1991'}]\n"
     ]
    },
    {
     "name": "stderr",
     "output_type": "stream",
     "text": [
      "127.0.0.1 - - [09/Jul/2022 09:01:46] \"POST /sendQuestionAnswers HTTP/1.1\" 200 -\n"
     ]
    },
    {
     "name": "stdout",
     "output_type": "stream",
     "text": [
      "[{'question': 'Who created Python?', 'answer': 'Guido van   Rossum'}, {'question': 'When was Python released?', 'answer': '1991'}, {'question': \"What is Python's design philosophy?\", 'answer': 'emphasizes code reada bility'}]\n",
      "[{'question': 'What is a sleep disorder in which people have trouble sleeping?', 'answer': 'Insomnia'}, {'question': 'Insomnia is typically followed by what type of sleepiness?', 'answer': 'daytime'}, {'question': 'Long term, lasting more than a month, what can result in insomnia?', 'answer': 'Conditions'}, {'question': 'What is the diagnosis of insomnia based on?', 'answer': 'sleep habits'}, {'question': \"What was Charles Babbage's profession?\", 'answer': 'mathematician,   philosopher, inventor and mechanical engineer'}, {'question': 'What was the name of the first mechanical computer?', 'answer': 'the Difference Engine'}, {'question': 'Where is the Analytical Engine located?', 'answer': 'Science Museum in London'}, {'question': 'When was a difference engine constructed?', 'answer': '1991'}, {'question': 'Who created Python?', 'answer': 'Guido van   Rossum'}, {'question': 'When was Python released?', 'answer': '1991'}, {'question': \"What is Python's design philosophy?\", 'answer': 'emphasizes code reada bility'}]\n",
      "[{'question': \"What was Charles Babbage's profession?\", 'answer': 'mathematician,   philosopher, inventor and mechanical engineer'}]\n",
      "[{'question': \"What was Charles Babbage's profession?\", 'answer': 'mathematician,   philosopher, inventor and mechanical engineer'}, {'question': 'What was the name of the first mechanical computer?', 'answer': 'the Difference Engine'}]\n",
      "[{'question': \"What was Charles Babbage's profession?\", 'answer': 'mathematician,   philosopher, inventor and mechanical engineer'}, {'question': 'What was the name of the first mechanical computer?', 'answer': 'the Difference Engine'}, {'question': 'Where is the Analytical Engine located?', 'answer': 'Science Museum in London'}]\n"
     ]
    },
    {
     "name": "stderr",
     "output_type": "stream",
     "text": [
      "127.0.0.1 - - [09/Jul/2022 09:03:11] \"POST /sendQuestionAnswers HTTP/1.1\" 200 -\n"
     ]
    },
    {
     "name": "stdout",
     "output_type": "stream",
     "text": [
      "[{'question': \"What was Charles Babbage's profession?\", 'answer': 'mathematician,   philosopher, inventor and mechanical engineer'}, {'question': 'What was the name of the first mechanical computer?', 'answer': 'the Difference Engine'}, {'question': 'Where is the Analytical Engine located?', 'answer': 'Science Museum in London'}, {'question': 'When was a difference engine constructed?', 'answer': '1991'}]\n",
      "[{'question': \"What was Charles Babbage's profession?\", 'answer': 'mathematician,   philosopher, inventor and mechanical engineer'}, {'question': 'What was the name of the first mechanical computer?', 'answer': 'the Difference Engine'}, {'question': 'Where is the Analytical Engine located?', 'answer': 'Science Museum in London'}, {'question': 'When was a difference engine constructed?', 'answer': '1991'}]\n",
      "[{'question': 'Who created Python?', 'answer': 'Guido van   Rossum'}]\n",
      "[{'question': 'Who created Python?', 'answer': 'Guido van   Rossum'}, {'question': 'When was Python released?', 'answer': '1991'}]\n"
     ]
    },
    {
     "name": "stderr",
     "output_type": "stream",
     "text": [
      "127.0.0.1 - - [09/Jul/2022 09:20:13] \"POST /sendQuestionAnswers HTTP/1.1\" 200 -\n"
     ]
    },
    {
     "name": "stdout",
     "output_type": "stream",
     "text": [
      "[{'question': 'Who created Python?', 'answer': 'Guido van   Rossum'}, {'question': 'When was Python released?', 'answer': '1991'}, {'question': \"What is Python's design philosophy?\", 'answer': 'emphasizes code reada bility'}]\n",
      "[{'question': 'Who created Python?', 'answer': 'Guido van   Rossum'}, {'question': 'When was Python released?', 'answer': '1991'}, {'question': \"What is Python's design philosophy?\", 'answer': 'emphasizes code reada bility'}]\n",
      "[{'question': 'Who created Python?', 'answer': 'Guido van   Rossum'}]\n",
      "[{'question': 'Who created Python?', 'answer': 'Guido van   Rossum'}, {'question': 'When was Python released?', 'answer': '1991'}]\n"
     ]
    },
    {
     "name": "stderr",
     "output_type": "stream",
     "text": [
      "127.0.0.1 - - [09/Jul/2022 09:22:12] \"POST /sendQuestionAnswers HTTP/1.1\" 200 -\n"
     ]
    },
    {
     "name": "stdout",
     "output_type": "stream",
     "text": [
      "[{'question': 'Who created Python?', 'answer': 'Guido van   Rossum'}, {'question': 'When was Python released?', 'answer': '1991'}, {'question': \"What is Python's design philosophy?\", 'answer': 'emphasizes code reada bility'}]\n",
      "[{'question': 'Who created Python?', 'answer': 'Guido van   Rossum'}, {'question': 'When was Python released?', 'answer': '1991'}, {'question': \"What is Python's design philosophy?\", 'answer': 'emphasizes code reada bility'}]\n",
      "[{'question': 'Who created Python?', 'answer': 'Guido van   Rossum'}]\n",
      "[{'question': 'Who created Python?', 'answer': 'Guido van   Rossum'}, {'question': 'When was Python released?', 'answer': '1991'}]\n"
     ]
    },
    {
     "name": "stderr",
     "output_type": "stream",
     "text": [
      "127.0.0.1 - - [09/Jul/2022 09:27:40] \"POST /sendQuestionAnswers HTTP/1.1\" 200 -\n"
     ]
    },
    {
     "name": "stdout",
     "output_type": "stream",
     "text": [
      "[{'question': 'Who created Python?', 'answer': 'Guido van   Rossum'}, {'question': 'When was Python released?', 'answer': '1991'}, {'question': \"What is Python's design philosophy?\", 'answer': 'emphasizes code reada bility'}]\n",
      "[{'question': 'Who created Python?', 'answer': 'Guido van   Rossum'}, {'question': 'When was Python released?', 'answer': '1991'}, {'question': \"What is Python's design philosophy?\", 'answer': 'emphasizes code reada bility'}]\n",
      "[{'question': 'Who created Python?', 'answer': 'Guido van   Rossum'}]\n",
      "[{'question': 'Who created Python?', 'answer': 'Guido van   Rossum'}, {'question': 'When was Python released?', 'answer': '1991'}]\n"
     ]
    },
    {
     "name": "stderr",
     "output_type": "stream",
     "text": [
      "127.0.0.1 - - [09/Jul/2022 09:51:53] \"POST /sendQuestionAnswers HTTP/1.1\" 200 -\n"
     ]
    },
    {
     "name": "stdout",
     "output_type": "stream",
     "text": [
      "[{'question': 'Who created Python?', 'answer': 'Guido van   Rossum'}, {'question': 'When was Python released?', 'answer': '1991'}, {'question': \"What is Python's design philosophy?\", 'answer': 'emphasizes code reada bility'}]\n",
      "[{'question': 'Who created Python?', 'answer': 'Guido van   Rossum'}, {'question': 'When was Python released?', 'answer': '1991'}, {'question': \"What is Python's design philosophy?\", 'answer': 'emphasizes code reada bility'}]\n"
     ]
    },
    {
     "name": "stderr",
     "output_type": "stream",
     "text": [
      "127.0.0.1 - - [09/Jul/2022 10:41:41] \"POST /sendQuestions HTTP/1.1\" 404 -\n",
      "127.0.0.1 - - [09/Jul/2022 10:41:49] \"POST /sendQuestionAnswers HTTP/1.1\" 400 -\n"
     ]
    },
    {
     "name": "stdout",
     "output_type": "stream",
     "text": [
      "[{'question': 'Who created Python?', 'answer': 'Guido van   Rossum'}]\n",
      "[{'question': 'Who created Python?', 'answer': 'Guido van   Rossum'}, {'question': 'When was Python released?', 'answer': '1991'}]\n"
     ]
    },
    {
     "name": "stderr",
     "output_type": "stream",
     "text": [
      "127.0.0.1 - - [09/Jul/2022 10:42:39] \"POST /sendQuestionAnswers HTTP/1.1\" 200 -\n"
     ]
    },
    {
     "name": "stdout",
     "output_type": "stream",
     "text": [
      "[{'question': 'Who created Python?', 'answer': 'Guido van   Rossum'}, {'question': 'When was Python released?', 'answer': '1991'}, {'question': \"What is Python's design philosophy?\", 'answer': 'emphasizes code reada bility'}]\n",
      "[{'question': 'Who created Python?', 'answer': 'Guido van   Rossum'}, {'question': 'When was Python released?', 'answer': '1991'}, {'question': \"What is Python's design philosophy?\", 'answer': 'emphasizes code reada bility'}]\n",
      "[{'question': \"What was Charles Babbage's profession?\", 'answer': 'mathematician,   philosopher, inventor and mechanical engineer'}]\n",
      "[{'question': \"What was Charles Babbage's profession?\", 'answer': 'mathematician,   philosopher, inventor and mechanical engineer'}, {'question': 'What was the name of the first mechanical computer?', 'answer': 'the Difference Engine'}]\n",
      "[{'question': \"What was Charles Babbage's profession?\", 'answer': 'mathematician,   philosopher, inventor and mechanical engineer'}, {'question': 'What was the name of the first mechanical computer?', 'answer': 'the Difference Engine'}, {'question': 'Where is the Analytical Engine located?', 'answer': 'Science Museum in London'}]\n"
     ]
    },
    {
     "name": "stderr",
     "output_type": "stream",
     "text": [
      "127.0.0.1 - - [09/Jul/2022 10:48:01] \"POST /sendQuestionAnswers HTTP/1.1\" 200 -\n"
     ]
    },
    {
     "name": "stdout",
     "output_type": "stream",
     "text": [
      "[{'question': \"What was Charles Babbage's profession?\", 'answer': 'mathematician,   philosopher, inventor and mechanical engineer'}, {'question': 'What was the name of the first mechanical computer?', 'answer': 'the Difference Engine'}, {'question': 'Where is the Analytical Engine located?', 'answer': 'Science Museum in London'}, {'question': 'When was a difference engine constructed?', 'answer': '1991'}]\n",
      "[{'question': \"What was Charles Babbage's profession?\", 'answer': 'mathematician,   philosopher, inventor and mechanical engineer'}, {'question': 'What was the name of the first mechanical computer?', 'answer': 'the Difference Engine'}, {'question': 'Where is the Analytical Engine located?', 'answer': 'Science Museum in London'}, {'question': 'When was a difference engine constructed?', 'answer': '1991'}]\n"
     ]
    }
   ],
   "source": [
    "from flask import Flask, jsonify, request\n",
    "import sys\n",
    "import json\n",
    "app = Flask(__name__)  \n",
    "\n",
    "#For returning the Generated questions when the context is sent through the API\n",
    "@app.route('/sendQuestionAnswers', methods = ['POST'])\n",
    "def sendQuestions():\n",
    "    #preprocessing required since due to the format sent by the application through the API\n",
    "    \n",
    "    #data recieved is in the format '[{\"code\": 200, \"text\": context1, \"blocks\": int},{\"code\": 200, \"text\": context2, \"blocks\": int}]'\n",
    "    data_list = request.get_json()\n",
    "    data = data_list[0]\n",
    "    \n",
    "    #Preprocessing to remove double quotation marks in just the context since that creates an error when converting to a dict\n",
    "    #done by replacing \" initially with @@@ and then replacing it back after dict conversion\n",
    "    data_jsons = data.split('}')\n",
    "    \n",
    "    final_QAs = []\n",
    "    \n",
    "    for data_json_text in data_jsons[:-1]:\n",
    "        data_json_text+=\"}\"\n",
    "        data_json_ftext = data_json_text.split('\"text\": \"')[0] + '\"text\": \"'+ data_json_text.split('\"text\": \"')[1].split('\", \"blocks\"')[0].replace('\"','@@@') + '\", \"blocks\"' + data_json_text.split('\"text\": \"')[1].split('\", \"blocks\"')[1]\n",
    "        \n",
    "        #convert the string to json\n",
    "        data_json = json.loads(data_json_ftext)\n",
    "        \n",
    "        #put the double quotes in the context back in place\n",
    "        data_json[\"text\"] = data_json[\"text\"].replace('@@@', '\"')\n",
    "        context = data_json[\"text\"]\n",
    "        \n",
    "        #generate questions for each context\n",
    "        questions = nlp(context)\n",
    "        \n",
    "        answers = []\n",
    "        for question in questions:\n",
    "            QA_input = {'question': question, 'context': context}\n",
    "            answer_res = answer_pipeline(QA_input)\n",
    "            answer = answer_res['answer']\n",
    "            answers.append({'question': question, 'answer':answer})\n",
    "            print(answers)        \n",
    "        #concatenate questions\n",
    "        final_QAs = final_QAs + answers\n",
    "        print(final_QAs)\n",
    "    return jsonify(final_QAs)\n",
    "\n",
    "#For returning the Predicted Answers when the context along with the questions is sent through the API\n",
    "@app.route('/sendAnswers', methods = ['POST'])\n",
    "def sendAnswers():\n",
    "    request_data = request.get_json()    \n",
    "    answers_ret = []\n",
    "    print(request_data, file=sys.stderr)\n",
    "    context = request_data[0]\n",
    "    questions = request_data[1]\n",
    "    for question in questions:\n",
    "        QA_input = {'question': question, 'context': context}\n",
    "        answer_res = answer_pipeline(QA_input)\n",
    "        ret_answer = answer_res['answer']\n",
    "        answers_ret.append({\"question\":question, \"answer\":ret_answer})\n",
    "    print(answer_res['answer'], file=sys.stderr)\n",
    "    with open('newfile.json', 'w') as f:\n",
    "        json.dump(answer_res['answer'],f)\n",
    "    return jsonify(answers_ret)\n",
    "app.run(port=4000)"
   ]
  },
  {
   "cell_type": "code",
   "execution_count": null,
   "metadata": {},
   "outputs": [],
   "source": []
  }
 ],
 "metadata": {
  "kernelspec": {
   "display_name": "Python 3.8.10 64-bit",
   "language": "python",
   "name": "python3"
  },
  "language_info": {
   "codemirror_mode": {
    "name": "ipython",
    "version": 3
   },
   "file_extension": ".py",
   "mimetype": "text/x-python",
   "name": "python",
   "nbconvert_exporter": "python",
   "pygments_lexer": "ipython3",
   "version": "3.8.10"
  },
  "vscode": {
   "interpreter": {
    "hash": "7d033314adced64c6156dd91e28ede20e807c7c73c44ff599d35fd3cd0e56471"
   }
  }
 },
 "nbformat": 4,
 "nbformat_minor": 4
}
